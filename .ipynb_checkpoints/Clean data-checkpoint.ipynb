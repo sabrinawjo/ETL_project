{
 "cells": [
  {
   "cell_type": "code",
   "execution_count": 1,
   "metadata": {},
   "outputs": [],
   "source": [
    "import pandas as pd\n",
    "from sqlalchemy import create_engine\n",
    "import time"
   ]
  },
  {
   "cell_type": "code",
   "execution_count": 2,
   "metadata": {},
   "outputs": [],
   "source": [
    "\n",
    "keysku_start_time = time.time()\n",
    "keysku_path = \"Resources/KEY_SKU.csv\"\n",
    "marketing_start_time = time.time()\n",
    "marketing_path = \"Resources/Marketing_Spend.csv\"\n",
    "online_start_time = time.time()\n",
    "online_path = \"Resources/Online.csv\"\n",
    "retail_start_time = time.time()\n",
    "retail_path = \"Resources/Retail.csv\""
   ]
  },
  {
   "cell_type": "code",
   "execution_count": 3,
   "metadata": {},
   "outputs": [],
   "source": [
    "keysku_df = pd.read_csv(keysku_path)\n",
    "marketing_df = pd.read_csv(marketing_path)\n",
    "online_df = pd.read_csv(online_path)\n",
    "retail_df = pd.read_csv(retail_path)"
   ]
  },
  {
   "cell_type": "code",
   "execution_count": 4,
   "metadata": {},
   "outputs": [],
   "source": [
    "keysku_errors=0\n",
    "marketing_errors=0\n",
    "online_errors=0\n",
    "retail_errors=0"
   ]
  },
  {
   "cell_type": "code",
   "execution_count": 5,
   "metadata": {},
   "outputs": [
    {
     "data": {
      "text/html": [
       "<div>\n",
       "<style scoped>\n",
       "    .dataframe tbody tr th:only-of-type {\n",
       "        vertical-align: middle;\n",
       "    }\n",
       "\n",
       "    .dataframe tbody tr th {\n",
       "        vertical-align: top;\n",
       "    }\n",
       "\n",
       "    .dataframe thead th {\n",
       "        text-align: right;\n",
       "    }\n",
       "</style>\n",
       "<table border=\"1\" class=\"dataframe\">\n",
       "  <thead>\n",
       "    <tr style=\"text-align: right;\">\n",
       "      <th></th>\n",
       "      <th>Product SKU</th>\n",
       "      <th>StockCode</th>\n",
       "    </tr>\n",
       "  </thead>\n",
       "  <tbody>\n",
       "    <tr>\n",
       "      <th>0</th>\n",
       "      <td>GGOENEBQ079099</td>\n",
       "      <td>21421</td>\n",
       "    </tr>\n",
       "    <tr>\n",
       "      <th>1</th>\n",
       "      <td>GGOENEBQ079199</td>\n",
       "      <td>21422</td>\n",
       "    </tr>\n",
       "    <tr>\n",
       "      <th>2</th>\n",
       "      <td>GGOENEBQ084699</td>\n",
       "      <td>22178</td>\n",
       "    </tr>\n",
       "    <tr>\n",
       "      <th>3</th>\n",
       "      <td>GGOEGAEB091117</td>\n",
       "      <td>20749</td>\n",
       "    </tr>\n",
       "    <tr>\n",
       "      <th>4</th>\n",
       "      <td>GGOENEBB078899</td>\n",
       "      <td>21056</td>\n",
       "    </tr>\n",
       "  </tbody>\n",
       "</table>\n",
       "</div>"
      ],
      "text/plain": [
       "      Product SKU  StockCode\n",
       "0  GGOENEBQ079099      21421\n",
       "1  GGOENEBQ079199      21422\n",
       "2  GGOENEBQ084699      22178\n",
       "3  GGOEGAEB091117      20749\n",
       "4  GGOENEBB078899      21056"
      ]
     },
     "execution_count": 5,
     "metadata": {},
     "output_type": "execute_result"
    }
   ],
   "source": [
    "#keysku\n",
    "keysku_df.head()"
   ]
  },
  {
   "cell_type": "code",
   "execution_count": 6,
   "metadata": {},
   "outputs": [
    {
     "data": {
      "text/html": [
       "<div>\n",
       "<style scoped>\n",
       "    .dataframe tbody tr th:only-of-type {\n",
       "        vertical-align: middle;\n",
       "    }\n",
       "\n",
       "    .dataframe tbody tr th {\n",
       "        vertical-align: top;\n",
       "    }\n",
       "\n",
       "    .dataframe thead th {\n",
       "        text-align: right;\n",
       "    }\n",
       "</style>\n",
       "<table border=\"1\" class=\"dataframe\">\n",
       "  <thead>\n",
       "    <tr style=\"text-align: right;\">\n",
       "      <th></th>\n",
       "      <th>product_sku</th>\n",
       "      <th>stock_code</th>\n",
       "    </tr>\n",
       "  </thead>\n",
       "  <tbody>\n",
       "    <tr>\n",
       "      <th>0</th>\n",
       "      <td>GGOENEBQ079099</td>\n",
       "      <td>21421</td>\n",
       "    </tr>\n",
       "    <tr>\n",
       "      <th>1</th>\n",
       "      <td>GGOENEBQ079199</td>\n",
       "      <td>21422</td>\n",
       "    </tr>\n",
       "    <tr>\n",
       "      <th>2</th>\n",
       "      <td>GGOENEBQ084699</td>\n",
       "      <td>22178</td>\n",
       "    </tr>\n",
       "    <tr>\n",
       "      <th>3</th>\n",
       "      <td>GGOEGAEB091117</td>\n",
       "      <td>20749</td>\n",
       "    </tr>\n",
       "    <tr>\n",
       "      <th>4</th>\n",
       "      <td>GGOENEBB078899</td>\n",
       "      <td>21056</td>\n",
       "    </tr>\n",
       "  </tbody>\n",
       "</table>\n",
       "</div>"
      ],
      "text/plain": [
       "      product_sku  stock_code\n",
       "0  GGOENEBQ079099       21421\n",
       "1  GGOENEBQ079199       21422\n",
       "2  GGOENEBQ084699       22178\n",
       "3  GGOEGAEB091117       20749\n",
       "4  GGOENEBB078899       21056"
      ]
     },
     "execution_count": 6,
     "metadata": {},
     "output_type": "execute_result"
    }
   ],
   "source": [
    "try:   \n",
    "    keysku_df = keysku_df.rename(columns={'Product SKU':'product_sku', 'StockCode':'stock_code'})\n",
    "    \n",
    "except:\n",
    "    keysku_errors+=1\n",
    "    \n",
    "keysku_df.head()"
   ]
  },
  {
   "cell_type": "code",
   "execution_count": 7,
   "metadata": {},
   "outputs": [
    {
     "data": {
      "text/plain": [
       "1178"
      ]
     },
     "execution_count": 7,
     "metadata": {},
     "output_type": "execute_result"
    }
   ],
   "source": [
    "keysku_count=keysku_df.shape[0]\n",
    "keysku_df[\"stock_code\"].value_counts().sum()\n",
    "keysku_df[\"product_sku\"].value_counts().sum()"
   ]
  },
  {
   "cell_type": "code",
   "execution_count": 8,
   "metadata": {},
   "outputs": [
    {
     "data": {
      "text/html": [
       "<div>\n",
       "<style scoped>\n",
       "    .dataframe tbody tr th:only-of-type {\n",
       "        vertical-align: middle;\n",
       "    }\n",
       "\n",
       "    .dataframe tbody tr th {\n",
       "        vertical-align: top;\n",
       "    }\n",
       "\n",
       "    .dataframe thead th {\n",
       "        text-align: right;\n",
       "    }\n",
       "</style>\n",
       "<table border=\"1\" class=\"dataframe\">\n",
       "  <thead>\n",
       "    <tr style=\"text-align: right;\">\n",
       "      <th></th>\n",
       "      <th>Unnamed: 0</th>\n",
       "      <th>Offline Spend</th>\n",
       "      <th>Online Spend</th>\n",
       "    </tr>\n",
       "  </thead>\n",
       "  <tbody>\n",
       "    <tr>\n",
       "      <th>0</th>\n",
       "      <td>2017-01-01</td>\n",
       "      <td>4500</td>\n",
       "      <td>2424.50</td>\n",
       "    </tr>\n",
       "    <tr>\n",
       "      <th>1</th>\n",
       "      <td>2017-01-02</td>\n",
       "      <td>4500</td>\n",
       "      <td>3480.36</td>\n",
       "    </tr>\n",
       "    <tr>\n",
       "      <th>2</th>\n",
       "      <td>2017-01-03</td>\n",
       "      <td>4500</td>\n",
       "      <td>1576.38</td>\n",
       "    </tr>\n",
       "    <tr>\n",
       "      <th>3</th>\n",
       "      <td>2017-01-04</td>\n",
       "      <td>4500</td>\n",
       "      <td>2928.55</td>\n",
       "    </tr>\n",
       "    <tr>\n",
       "      <th>4</th>\n",
       "      <td>2017-01-05</td>\n",
       "      <td>4500</td>\n",
       "      <td>4055.30</td>\n",
       "    </tr>\n",
       "  </tbody>\n",
       "</table>\n",
       "</div>"
      ],
      "text/plain": [
       "   Unnamed: 0  Offline Spend  Online Spend\n",
       "0  2017-01-01           4500       2424.50\n",
       "1  2017-01-02           4500       3480.36\n",
       "2  2017-01-03           4500       1576.38\n",
       "3  2017-01-04           4500       2928.55\n",
       "4  2017-01-05           4500       4055.30"
      ]
     },
     "execution_count": 8,
     "metadata": {},
     "output_type": "execute_result"
    }
   ],
   "source": [
    "#marketing\n",
    "marketing_df.head()"
   ]
  },
  {
   "cell_type": "code",
   "execution_count": 9,
   "metadata": {},
   "outputs": [
    {
     "data": {
      "text/html": [
       "<div>\n",
       "<style scoped>\n",
       "    .dataframe tbody tr th:only-of-type {\n",
       "        vertical-align: middle;\n",
       "    }\n",
       "\n",
       "    .dataframe tbody tr th {\n",
       "        vertical-align: top;\n",
       "    }\n",
       "\n",
       "    .dataframe thead th {\n",
       "        text-align: right;\n",
       "    }\n",
       "</style>\n",
       "<table border=\"1\" class=\"dataframe\">\n",
       "  <thead>\n",
       "    <tr style=\"text-align: right;\">\n",
       "      <th></th>\n",
       "      <th>date</th>\n",
       "      <th>offline_spend</th>\n",
       "      <th>online_spend</th>\n",
       "    </tr>\n",
       "  </thead>\n",
       "  <tbody>\n",
       "    <tr>\n",
       "      <th>0</th>\n",
       "      <td>2017-01-01</td>\n",
       "      <td>4500</td>\n",
       "      <td>2424.50</td>\n",
       "    </tr>\n",
       "    <tr>\n",
       "      <th>1</th>\n",
       "      <td>2017-01-02</td>\n",
       "      <td>4500</td>\n",
       "      <td>3480.36</td>\n",
       "    </tr>\n",
       "    <tr>\n",
       "      <th>2</th>\n",
       "      <td>2017-01-03</td>\n",
       "      <td>4500</td>\n",
       "      <td>1576.38</td>\n",
       "    </tr>\n",
       "    <tr>\n",
       "      <th>3</th>\n",
       "      <td>2017-01-04</td>\n",
       "      <td>4500</td>\n",
       "      <td>2928.55</td>\n",
       "    </tr>\n",
       "    <tr>\n",
       "      <th>4</th>\n",
       "      <td>2017-01-05</td>\n",
       "      <td>4500</td>\n",
       "      <td>4055.30</td>\n",
       "    </tr>\n",
       "  </tbody>\n",
       "</table>\n",
       "</div>"
      ],
      "text/plain": [
       "         date  offline_spend  online_spend\n",
       "0  2017-01-01           4500       2424.50\n",
       "1  2017-01-02           4500       3480.36\n",
       "2  2017-01-03           4500       1576.38\n",
       "3  2017-01-04           4500       2928.55\n",
       "4  2017-01-05           4500       4055.30"
      ]
     },
     "execution_count": 9,
     "metadata": {},
     "output_type": "execute_result"
    }
   ],
   "source": [
    "try:\n",
    "    marketing_df = marketing_df.rename(columns={'Unnamed: 0':'date', 'Offline Spend':'offline_spend', 'Online Spend':'online_spend'})\n",
    "\n",
    "except:\n",
    "    marketing_errors+=1\n",
    "\n",
    "marketing_count=marketing_df.shape[0]\n",
    "marketing_df.head()"
   ]
  },
  {
   "cell_type": "code",
   "execution_count": 10,
   "metadata": {},
   "outputs": [
    {
     "data": {
      "text/html": [
       "<div>\n",
       "<style scoped>\n",
       "    .dataframe tbody tr th:only-of-type {\n",
       "        vertical-align: middle;\n",
       "    }\n",
       "\n",
       "    .dataframe tbody tr th {\n",
       "        vertical-align: top;\n",
       "    }\n",
       "\n",
       "    .dataframe thead th {\n",
       "        text-align: right;\n",
       "    }\n",
       "</style>\n",
       "<table border=\"1\" class=\"dataframe\">\n",
       "  <thead>\n",
       "    <tr style=\"text-align: right;\">\n",
       "      <th></th>\n",
       "      <th>Transaction ID</th>\n",
       "      <th>Date</th>\n",
       "      <th>Product SKU</th>\n",
       "      <th>Product</th>\n",
       "      <th>Product Category (Enhanced E-commerce)</th>\n",
       "      <th>Quantity</th>\n",
       "      <th>Avg. Price</th>\n",
       "      <th>Revenue</th>\n",
       "      <th>Tax</th>\n",
       "      <th>Delivery</th>\n",
       "    </tr>\n",
       "  </thead>\n",
       "  <tbody>\n",
       "    <tr>\n",
       "      <th>0</th>\n",
       "      <td>48497</td>\n",
       "      <td>20171231</td>\n",
       "      <td>GGOENEBQ079099</td>\n",
       "      <td>Nest® Protect Smoke + CO White Battery Alarm-USA</td>\n",
       "      <td>Nest-USA</td>\n",
       "      <td>4.0</td>\n",
       "      <td>80.52</td>\n",
       "      <td>316.00</td>\n",
       "      <td>34.44</td>\n",
       "      <td>19.99</td>\n",
       "    </tr>\n",
       "    <tr>\n",
       "      <th>1</th>\n",
       "      <td>48496</td>\n",
       "      <td>20171231</td>\n",
       "      <td>GGOENEBQ079199</td>\n",
       "      <td>Nest® Protect Smoke + CO White Wired Alarm-USA</td>\n",
       "      <td>Nest-USA</td>\n",
       "      <td>5.0</td>\n",
       "      <td>80.52</td>\n",
       "      <td>395.00</td>\n",
       "      <td>33.14</td>\n",
       "      <td>6.50</td>\n",
       "    </tr>\n",
       "    <tr>\n",
       "      <th>2</th>\n",
       "      <td>48495</td>\n",
       "      <td>20171231</td>\n",
       "      <td>GGOENEBQ084699</td>\n",
       "      <td>Nest® Learning Thermostat 3rd Gen-USA - White</td>\n",
       "      <td>Nest-USA</td>\n",
       "      <td>1.0</td>\n",
       "      <td>151.88</td>\n",
       "      <td>149.00</td>\n",
       "      <td>12.06</td>\n",
       "      <td>6.50</td>\n",
       "    </tr>\n",
       "    <tr>\n",
       "      <th>3</th>\n",
       "      <td>48494</td>\n",
       "      <td>20171231</td>\n",
       "      <td>GGOEGAEB091117</td>\n",
       "      <td>Google Zip Hoodie Black</td>\n",
       "      <td>Apparel</td>\n",
       "      <td>1.0</td>\n",
       "      <td>48.92</td>\n",
       "      <td>47.99</td>\n",
       "      <td>3.82</td>\n",
       "      <td>6.50</td>\n",
       "    </tr>\n",
       "    <tr>\n",
       "      <th>4</th>\n",
       "      <td>48493</td>\n",
       "      <td>20171231</td>\n",
       "      <td>GGOENEBB078899</td>\n",
       "      <td>Nest® Cam Indoor Security Camera - USA</td>\n",
       "      <td>Nest-USA</td>\n",
       "      <td>1.0</td>\n",
       "      <td>121.30</td>\n",
       "      <td>119.00</td>\n",
       "      <td>8.31</td>\n",
       "      <td>6.50</td>\n",
       "    </tr>\n",
       "  </tbody>\n",
       "</table>\n",
       "</div>"
      ],
      "text/plain": [
       "   Transaction ID      Date     Product SKU  \\\n",
       "0           48497  20171231  GGOENEBQ079099   \n",
       "1           48496  20171231  GGOENEBQ079199   \n",
       "2           48495  20171231  GGOENEBQ084699   \n",
       "3           48494  20171231  GGOEGAEB091117   \n",
       "4           48493  20171231  GGOENEBB078899   \n",
       "\n",
       "                                            Product  \\\n",
       "0  Nest® Protect Smoke + CO White Battery Alarm-USA   \n",
       "1    Nest® Protect Smoke + CO White Wired Alarm-USA   \n",
       "2     Nest® Learning Thermostat 3rd Gen-USA - White   \n",
       "3                           Google Zip Hoodie Black   \n",
       "4            Nest® Cam Indoor Security Camera - USA   \n",
       "\n",
       "  Product Category (Enhanced E-commerce)  Quantity  Avg. Price  Revenue  \\\n",
       "0                               Nest-USA       4.0       80.52   316.00   \n",
       "1                               Nest-USA       5.0       80.52   395.00   \n",
       "2                               Nest-USA       1.0      151.88   149.00   \n",
       "3                                Apparel       1.0       48.92    47.99   \n",
       "4                               Nest-USA       1.0      121.30   119.00   \n",
       "\n",
       "     Tax  Delivery  \n",
       "0  34.44     19.99  \n",
       "1  33.14      6.50  \n",
       "2  12.06      6.50  \n",
       "3   3.82      6.50  \n",
       "4   8.31      6.50  "
      ]
     },
     "execution_count": 10,
     "metadata": {},
     "output_type": "execute_result"
    }
   ],
   "source": [
    "#online\n",
    "online_df.head()"
   ]
  },
  {
   "cell_type": "code",
   "execution_count": 11,
   "metadata": {},
   "outputs": [
    {
     "data": {
      "text/html": [
       "<div>\n",
       "<style scoped>\n",
       "    .dataframe tbody tr th:only-of-type {\n",
       "        vertical-align: middle;\n",
       "    }\n",
       "\n",
       "    .dataframe tbody tr th {\n",
       "        vertical-align: top;\n",
       "    }\n",
       "\n",
       "    .dataframe thead th {\n",
       "        text-align: right;\n",
       "    }\n",
       "</style>\n",
       "<table border=\"1\" class=\"dataframe\">\n",
       "  <thead>\n",
       "    <tr style=\"text-align: right;\">\n",
       "      <th></th>\n",
       "      <th>transaction_id</th>\n",
       "      <th>date</th>\n",
       "      <th>product_sku</th>\n",
       "      <th>product</th>\n",
       "      <th>product_category</th>\n",
       "      <th>quantity</th>\n",
       "      <th>avg_price</th>\n",
       "      <th>revenue</th>\n",
       "      <th>tax</th>\n",
       "      <th>delivery_cost</th>\n",
       "    </tr>\n",
       "  </thead>\n",
       "  <tbody>\n",
       "    <tr>\n",
       "      <th>0</th>\n",
       "      <td>48497</td>\n",
       "      <td>20171231</td>\n",
       "      <td>GGOENEBQ079099</td>\n",
       "      <td>Nest® Protect Smoke + CO White Battery Alarm-USA</td>\n",
       "      <td>Nest-USA</td>\n",
       "      <td>4.0</td>\n",
       "      <td>80.52</td>\n",
       "      <td>316.00</td>\n",
       "      <td>34.44</td>\n",
       "      <td>19.99</td>\n",
       "    </tr>\n",
       "    <tr>\n",
       "      <th>1</th>\n",
       "      <td>48496</td>\n",
       "      <td>20171231</td>\n",
       "      <td>GGOENEBQ079199</td>\n",
       "      <td>Nest® Protect Smoke + CO White Wired Alarm-USA</td>\n",
       "      <td>Nest-USA</td>\n",
       "      <td>5.0</td>\n",
       "      <td>80.52</td>\n",
       "      <td>395.00</td>\n",
       "      <td>33.14</td>\n",
       "      <td>6.50</td>\n",
       "    </tr>\n",
       "    <tr>\n",
       "      <th>2</th>\n",
       "      <td>48495</td>\n",
       "      <td>20171231</td>\n",
       "      <td>GGOENEBQ084699</td>\n",
       "      <td>Nest® Learning Thermostat 3rd Gen-USA - White</td>\n",
       "      <td>Nest-USA</td>\n",
       "      <td>1.0</td>\n",
       "      <td>151.88</td>\n",
       "      <td>149.00</td>\n",
       "      <td>12.06</td>\n",
       "      <td>6.50</td>\n",
       "    </tr>\n",
       "    <tr>\n",
       "      <th>3</th>\n",
       "      <td>48494</td>\n",
       "      <td>20171231</td>\n",
       "      <td>GGOEGAEB091117</td>\n",
       "      <td>Google Zip Hoodie Black</td>\n",
       "      <td>Apparel</td>\n",
       "      <td>1.0</td>\n",
       "      <td>48.92</td>\n",
       "      <td>47.99</td>\n",
       "      <td>3.82</td>\n",
       "      <td>6.50</td>\n",
       "    </tr>\n",
       "    <tr>\n",
       "      <th>4</th>\n",
       "      <td>48493</td>\n",
       "      <td>20171231</td>\n",
       "      <td>GGOENEBB078899</td>\n",
       "      <td>Nest® Cam Indoor Security Camera - USA</td>\n",
       "      <td>Nest-USA</td>\n",
       "      <td>1.0</td>\n",
       "      <td>121.30</td>\n",
       "      <td>119.00</td>\n",
       "      <td>8.31</td>\n",
       "      <td>6.50</td>\n",
       "    </tr>\n",
       "  </tbody>\n",
       "</table>\n",
       "</div>"
      ],
      "text/plain": [
       "   transaction_id      date     product_sku  \\\n",
       "0           48497  20171231  GGOENEBQ079099   \n",
       "1           48496  20171231  GGOENEBQ079199   \n",
       "2           48495  20171231  GGOENEBQ084699   \n",
       "3           48494  20171231  GGOEGAEB091117   \n",
       "4           48493  20171231  GGOENEBB078899   \n",
       "\n",
       "                                            product product_category  \\\n",
       "0  Nest® Protect Smoke + CO White Battery Alarm-USA         Nest-USA   \n",
       "1    Nest® Protect Smoke + CO White Wired Alarm-USA         Nest-USA   \n",
       "2     Nest® Learning Thermostat 3rd Gen-USA - White         Nest-USA   \n",
       "3                           Google Zip Hoodie Black          Apparel   \n",
       "4            Nest® Cam Indoor Security Camera - USA         Nest-USA   \n",
       "\n",
       "   quantity  avg_price  revenue    tax  delivery_cost  \n",
       "0       4.0      80.52   316.00  34.44          19.99  \n",
       "1       5.0      80.52   395.00  33.14           6.50  \n",
       "2       1.0     151.88   149.00  12.06           6.50  \n",
       "3       1.0      48.92    47.99   3.82           6.50  \n",
       "4       1.0     121.30   119.00   8.31           6.50  "
      ]
     },
     "execution_count": 11,
     "metadata": {},
     "output_type": "execute_result"
    }
   ],
   "source": [
    "try:\n",
    "    online_df = online_df.rename(columns={'Transaction ID':'transaction_id',\n",
    "                                          'Date':'date',\n",
    "                                          'Product SKU':'product_sku',\n",
    "                                          'Product':'product',\n",
    "                                          'Product Category (Enhanced E-commerce)':'product_category',\n",
    "                                          'Quantity':'quantity',\n",
    "                                          'Avg. Price':'avg_price',\n",
    "                                          'Revenue':'revenue',\n",
    "                                          'Tax':'tax',\n",
    "                                          'Delivery':'delivery_cost'\n",
    "                                         })\n",
    "except:\n",
    "    online_errors+=1\n",
    "    \n",
    "online_df.head()"
   ]
  },
  {
   "cell_type": "code",
   "execution_count": 12,
   "metadata": {},
   "outputs": [
    {
     "data": {
      "text/plain": [
       "5"
      ]
     },
     "execution_count": 12,
     "metadata": {},
     "output_type": "execute_result"
    }
   ],
   "source": [
    "online_df[\"quantity\"].isna().sum()"
   ]
  },
  {
   "cell_type": "code",
   "execution_count": 13,
   "metadata": {},
   "outputs": [
    {
     "data": {
      "text/plain": [
       "transaction_id      0\n",
       "date                0\n",
       "product_sku         0\n",
       "product             0\n",
       "product_category    0\n",
       "quantity            0\n",
       "avg_price           0\n",
       "revenue             0\n",
       "tax                 0\n",
       "delivery_cost       0\n",
       "dtype: int64"
      ]
     },
     "execution_count": 13,
     "metadata": {},
     "output_type": "execute_result"
    }
   ],
   "source": [
    "try:\n",
    "    online_df[\"date\"] = pd.to_datetime(online_df[\"date\"],format=\"%Y%m%d\")\n",
    "\n",
    "    online_df[\"quantity\"].isna().sum()\n",
    "    online_df[\"quantity\"]= online_df[\"quantity\"].fillna(0)\n",
    "    online_df[\"quantity\"]=online_df[\"quantity\"].astype(\"int\")\n",
    "    online_df[\"quantity\"].dtypes\n",
    "\n",
    "    # online_df.dropna(inplace=True)\n",
    "\n",
    "    online_df[\"product_category\"]= online_df[\"product_category\"].fillna(\"NONE\")\n",
    "except:\n",
    "    onine_errors+=1\n",
    "\n",
    "online_count=online_df.shape[0]\n",
    "online_df.isna().sum()"
   ]
  },
  {
   "cell_type": "code",
   "execution_count": 14,
   "metadata": {},
   "outputs": [
    {
     "data": {
      "text/html": [
       "<div>\n",
       "<style scoped>\n",
       "    .dataframe tbody tr th:only-of-type {\n",
       "        vertical-align: middle;\n",
       "    }\n",
       "\n",
       "    .dataframe tbody tr th {\n",
       "        vertical-align: top;\n",
       "    }\n",
       "\n",
       "    .dataframe thead th {\n",
       "        text-align: right;\n",
       "    }\n",
       "</style>\n",
       "<table border=\"1\" class=\"dataframe\">\n",
       "  <thead>\n",
       "    <tr style=\"text-align: right;\">\n",
       "      <th></th>\n",
       "      <th>InvoiceNo</th>\n",
       "      <th>InvoiceDate</th>\n",
       "      <th>StockCode</th>\n",
       "      <th>Quantity</th>\n",
       "    </tr>\n",
       "  </thead>\n",
       "  <tbody>\n",
       "    <tr>\n",
       "      <th>0</th>\n",
       "      <td>536598</td>\n",
       "      <td>2017-01-01</td>\n",
       "      <td>21421</td>\n",
       "      <td>1</td>\n",
       "    </tr>\n",
       "    <tr>\n",
       "      <th>1</th>\n",
       "      <td>536598</td>\n",
       "      <td>2017-01-01</td>\n",
       "      <td>21422</td>\n",
       "      <td>2</td>\n",
       "    </tr>\n",
       "    <tr>\n",
       "      <th>2</th>\n",
       "      <td>536598</td>\n",
       "      <td>2017-01-01</td>\n",
       "      <td>22178</td>\n",
       "      <td>26</td>\n",
       "    </tr>\n",
       "    <tr>\n",
       "      <th>3</th>\n",
       "      <td>536599</td>\n",
       "      <td>2017-01-01</td>\n",
       "      <td>20749</td>\n",
       "      <td>2</td>\n",
       "    </tr>\n",
       "    <tr>\n",
       "      <th>4</th>\n",
       "      <td>536599</td>\n",
       "      <td>2017-01-01</td>\n",
       "      <td>21056</td>\n",
       "      <td>2</td>\n",
       "    </tr>\n",
       "  </tbody>\n",
       "</table>\n",
       "</div>"
      ],
      "text/plain": [
       "   InvoiceNo InvoiceDate  StockCode  Quantity\n",
       "0     536598  2017-01-01      21421         1\n",
       "1     536598  2017-01-01      21422         2\n",
       "2     536598  2017-01-01      22178        26\n",
       "3     536599  2017-01-01      20749         2\n",
       "4     536599  2017-01-01      21056         2"
      ]
     },
     "execution_count": 14,
     "metadata": {},
     "output_type": "execute_result"
    }
   ],
   "source": [
    "#retail\n",
    "retail_count=retail_df.shape[0]\n",
    "retail_df.head()\n"
   ]
  },
  {
   "cell_type": "code",
   "execution_count": 15,
   "metadata": {},
   "outputs": [
    {
     "data": {
      "text/html": [
       "<div>\n",
       "<style scoped>\n",
       "    .dataframe tbody tr th:only-of-type {\n",
       "        vertical-align: middle;\n",
       "    }\n",
       "\n",
       "    .dataframe tbody tr th {\n",
       "        vertical-align: top;\n",
       "    }\n",
       "\n",
       "    .dataframe thead th {\n",
       "        text-align: right;\n",
       "    }\n",
       "</style>\n",
       "<table border=\"1\" class=\"dataframe\">\n",
       "  <thead>\n",
       "    <tr style=\"text-align: right;\">\n",
       "      <th></th>\n",
       "      <th>invoice_no</th>\n",
       "      <th>invoice_date</th>\n",
       "      <th>stock_code</th>\n",
       "      <th>quantity</th>\n",
       "    </tr>\n",
       "  </thead>\n",
       "  <tbody>\n",
       "    <tr>\n",
       "      <th>0</th>\n",
       "      <td>536598</td>\n",
       "      <td>2017-01-01</td>\n",
       "      <td>21421</td>\n",
       "      <td>1</td>\n",
       "    </tr>\n",
       "    <tr>\n",
       "      <th>1</th>\n",
       "      <td>536598</td>\n",
       "      <td>2017-01-01</td>\n",
       "      <td>21422</td>\n",
       "      <td>2</td>\n",
       "    </tr>\n",
       "    <tr>\n",
       "      <th>2</th>\n",
       "      <td>536598</td>\n",
       "      <td>2017-01-01</td>\n",
       "      <td>22178</td>\n",
       "      <td>26</td>\n",
       "    </tr>\n",
       "    <tr>\n",
       "      <th>3</th>\n",
       "      <td>536599</td>\n",
       "      <td>2017-01-01</td>\n",
       "      <td>20749</td>\n",
       "      <td>2</td>\n",
       "    </tr>\n",
       "    <tr>\n",
       "      <th>4</th>\n",
       "      <td>536599</td>\n",
       "      <td>2017-01-01</td>\n",
       "      <td>21056</td>\n",
       "      <td>2</td>\n",
       "    </tr>\n",
       "  </tbody>\n",
       "</table>\n",
       "</div>"
      ],
      "text/plain": [
       "   invoice_no invoice_date  stock_code  quantity\n",
       "0      536598   2017-01-01       21421         1\n",
       "1      536598   2017-01-01       21422         2\n",
       "2      536598   2017-01-01       22178        26\n",
       "3      536599   2017-01-01       20749         2\n",
       "4      536599   2017-01-01       21056         2"
      ]
     },
     "execution_count": 15,
     "metadata": {},
     "output_type": "execute_result"
    }
   ],
   "source": [
    "try:\n",
    "    \n",
    "    retail_df = retail_df.rename(columns={'InvoiceNo':'invoice_no', 'InvoiceDate':'invoice_date', 'StockCode':'stock_code', 'Quantity':'quantity'})\n",
    "\n",
    "    \n",
    "    \n",
    "except:\n",
    "    retail_errors +=1\n",
    "    \n",
    "retail_df.head()\n",
    "    \n",
    "    "
   ]
  },
  {
   "cell_type": "code",
   "execution_count": 16,
   "metadata": {},
   "outputs": [
    {
     "data": {
      "text/plain": [
       "20725    1549\n",
       "22197    1357\n",
       "21212    1325\n",
       "20727    1281\n",
       "21931    1162\n",
       "         ... \n",
       "21895       1\n",
       "21594       1\n",
       "20703       1\n",
       "21268       1\n",
       "21160       1\n",
       "Name: stock_code, Length: 1178, dtype: int64"
      ]
     },
     "execution_count": 16,
     "metadata": {},
     "output_type": "execute_result"
    }
   ],
   "source": [
    "retail_df[\"stock_code\"].value_counts()"
   ]
  },
  {
   "cell_type": "code",
   "execution_count": 30,
   "metadata": {},
   "outputs": [],
   "source": [
    "keysku_df.to_csv('Resources/new-keysku.csv',index=False) \n",
    "marketing_df.to_csv('Resources/new-marketing-spend.csv',index=False) \n",
    "online_df.to_csv('Resources/new-online.csv',index=False) \n",
    "retail_df.to_csv('Resources/new-retail.csv',index=False) "
   ]
  },
  {
   "cell_type": "code",
   "execution_count": 18,
   "metadata": {},
   "outputs": [],
   "source": []
  },
  {
   "cell_type": "code",
   "execution_count": null,
   "metadata": {},
   "outputs": [],
   "source": []
  },
  {
   "cell_type": "code",
   "execution_count": 19,
   "metadata": {},
   "outputs": [],
   "source": [
    "connection_string = \"postgres:password@localhost:5432/google_store_db\"\n",
    "engine = create_engine(f'postgresql://{connection_string}')\n"
   ]
  },
  {
   "cell_type": "code",
   "execution_count": 20,
   "metadata": {},
   "outputs": [
    {
     "data": {
      "text/plain": [
       "['marketing_spend', 'online', 'key_sku', 'retail']"
      ]
     },
     "execution_count": 20,
     "metadata": {},
     "output_type": "execute_result"
    }
   ],
   "source": [
    "engine.table_names()"
   ]
  },
  {
   "cell_type": "code",
   "execution_count": 21,
   "metadata": {},
   "outputs": [],
   "source": [
    "keysku_df.to_sql(name='key_sku', con=engine, if_exists='append', index=False)\n",
    "keysku_end_time=time.time() - keysku_start_time"
   ]
  },
  {
   "cell_type": "code",
   "execution_count": 22,
   "metadata": {},
   "outputs": [],
   "source": [
    "marketing_df.to_sql(name='marketing_spend', con=engine, if_exists='append', index=False)\n",
    "marketing_end_time=time.time() - marketing_start_time"
   ]
  },
  {
   "cell_type": "code",
   "execution_count": 23,
   "metadata": {},
   "outputs": [],
   "source": [
    "online_df.to_sql(name='online', con=engine, if_exists='append', index=False)\n",
    "online_end_time=time.time() - online_start_time"
   ]
  },
  {
   "cell_type": "code",
   "execution_count": 24,
   "metadata": {},
   "outputs": [],
   "source": [
    "retail_df.to_sql(name='retail', con=engine, if_exists='append', index=False)\n",
    "retail_end_time=time.time() - retail_start_time"
   ]
  },
  {
   "cell_type": "code",
   "execution_count": 25,
   "metadata": {},
   "outputs": [
    {
     "name": "stdout",
     "output_type": "stream",
     "text": [
      "4.02\n",
      "4.14\n",
      "16.18\n",
      "45.5\n"
     ]
    }
   ],
   "source": [
    "print(round(keysku_end_time,2))\n",
    "print(round(marketing_end_time,2))\n",
    "print(round(online_end_time,2))\n",
    "print(round(retail_end_time,2))"
   ]
  },
  {
   "cell_type": "code",
   "execution_count": 26,
   "metadata": {},
   "outputs": [
    {
     "name": "stdout",
     "output_type": "stream",
     "text": [
      "1178\n",
      "365\n",
      "54144\n",
      "181247\n"
     ]
    }
   ],
   "source": [
    "print(keysku_count)\n",
    "print(marketing_count)\n",
    "print(online_count)\n",
    "print(retail_count)"
   ]
  },
  {
   "cell_type": "code",
   "execution_count": 27,
   "metadata": {},
   "outputs": [],
   "source": [
    "etl_report=pd.DataFrame({'domain' : ['key_sku', 'marketing_spend','online','retail'],\n",
    "                       'row_counts' : [keysku_count, marketing_count, online_count, retail_count],\n",
    "                        'processing_time':[str(round(keysku_end_time,2)) + ' seconds', str(round(marketing_end_time,2)) + ' seconds', str(round(online_end_time,2)) + ' seconds', str(round(retail_end_time,2)) + ' seconds'],\n",
    "                         'error_count':[keysku_errors, marketing_errors, online_errors, retail_errors]})"
   ]
  },
  {
   "cell_type": "code",
   "execution_count": 28,
   "metadata": {},
   "outputs": [],
   "source": [
    "etl_report.to_html('Resources/etl_report.html',index=False)"
   ]
  },
  {
   "cell_type": "code",
   "execution_count": 29,
   "metadata": {},
   "outputs": [
    {
     "data": {
      "text/html": [
       "<div>\n",
       "<style scoped>\n",
       "    .dataframe tbody tr th:only-of-type {\n",
       "        vertical-align: middle;\n",
       "    }\n",
       "\n",
       "    .dataframe tbody tr th {\n",
       "        vertical-align: top;\n",
       "    }\n",
       "\n",
       "    .dataframe thead th {\n",
       "        text-align: right;\n",
       "    }\n",
       "</style>\n",
       "<table border=\"1\" class=\"dataframe\">\n",
       "  <thead>\n",
       "    <tr style=\"text-align: right;\">\n",
       "      <th></th>\n",
       "      <th>domain</th>\n",
       "      <th>row_counts</th>\n",
       "      <th>processing_time</th>\n",
       "      <th>error_count</th>\n",
       "    </tr>\n",
       "  </thead>\n",
       "  <tbody>\n",
       "    <tr>\n",
       "      <th>0</th>\n",
       "      <td>key_sku</td>\n",
       "      <td>1178</td>\n",
       "      <td>4.02 seconds</td>\n",
       "      <td>0</td>\n",
       "    </tr>\n",
       "    <tr>\n",
       "      <th>1</th>\n",
       "      <td>marketing_spend</td>\n",
       "      <td>365</td>\n",
       "      <td>4.14 seconds</td>\n",
       "      <td>0</td>\n",
       "    </tr>\n",
       "    <tr>\n",
       "      <th>2</th>\n",
       "      <td>online</td>\n",
       "      <td>54144</td>\n",
       "      <td>16.18 seconds</td>\n",
       "      <td>0</td>\n",
       "    </tr>\n",
       "    <tr>\n",
       "      <th>3</th>\n",
       "      <td>retail</td>\n",
       "      <td>181247</td>\n",
       "      <td>45.5 seconds</td>\n",
       "      <td>0</td>\n",
       "    </tr>\n",
       "  </tbody>\n",
       "</table>\n",
       "</div>"
      ],
      "text/plain": [
       "            domain  row_counts processing_time  error_count\n",
       "0          key_sku        1178    4.02 seconds            0\n",
       "1  marketing_spend         365    4.14 seconds            0\n",
       "2           online       54144   16.18 seconds            0\n",
       "3           retail      181247    45.5 seconds            0"
      ]
     },
     "execution_count": 29,
     "metadata": {},
     "output_type": "execute_result"
    }
   ],
   "source": [
    "etl_report.head()"
   ]
  },
  {
   "cell_type": "code",
   "execution_count": null,
   "metadata": {},
   "outputs": [],
   "source": []
  }
 ],
 "metadata": {
  "kernelspec": {
   "display_name": "Python 3",
   "language": "python",
   "name": "python3"
  },
  "language_info": {
   "codemirror_mode": {
    "name": "ipython",
    "version": 3
   },
   "file_extension": ".py",
   "mimetype": "text/x-python",
   "name": "python",
   "nbconvert_exporter": "python",
   "pygments_lexer": "ipython3",
   "version": "3.8.3"
  }
 },
 "nbformat": 4,
 "nbformat_minor": 4
}
